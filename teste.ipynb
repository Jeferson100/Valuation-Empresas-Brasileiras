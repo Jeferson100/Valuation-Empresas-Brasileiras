{
 "cells": [
  {
   "cell_type": "code",
   "execution_count": 1,
   "metadata": {},
   "outputs": [
    {
     "data": {
      "text/plain": [
       "False"
      ]
     },
     "execution_count": 1,
     "metadata": {},
     "output_type": "execute_result"
    }
   ],
   "source": [
    "import pandas as pd\n",
    "from fundamentos import (\n",
    "                          CalculoWACC, \n",
    "                          VariacaoReceita, \n",
    "                          ValuationModoloGordon, \n",
    "                          OutrosAtivosNaoOperacionais,\n",
    "                          PassivoTotalMenosDivida,\n",
    "                          NecessidadeCapitalGiro,\n",
    "                          IndicadoresFinanceiros,\n",
    "                          ValuationFluxoCaixaDescontado)\n",
    "\n",
    "from dotenv import load_dotenv\n",
    "import ipeadatapy as ip\n",
    "from datetime import datetime\n",
    "import pandas as pd\n",
    "import yfinance as yf\n",
    "import sidrapy\n",
    "import warnings\n",
    "warnings.filterwarnings('ignore')\n",
    "load_dotenv()\n"
   ]
  },
  {
   "cell_type": "markdown",
   "metadata": {},
   "source": [
    "# Valuation modolo gordon"
   ]
  },
  {
   "cell_type": "code",
   "execution_count": null,
   "metadata": {},
   "outputs": [],
   "source": [
    "# Valuation modolo gordon\n",
    "acoes = pd.read_csv(\"C:/Users/jefer/Downloads/setor.csv\")['tic'].to_list()\n",
    "lista_valuation = []\n",
    "for acao in acoes:\n",
    "    acao_sa = acao + \".SA\"\n",
    "    valu = ValuationModoloGordon(acao_sa)\n",
    "    try:\n",
    "        dicionario = valu.preco_acao()\n",
    "        lista_valuation.append(dicionario)\n",
    "    except KeyError:\n",
    "        print(\"Erro ao obter dados da ação:\", acao_sa)\n",
    "    #print(dicionario)\n",
    "    \n",
    "valuation_acoes = pd.DataFrame(lista_valuation)\n",
    "valuation_acoes.sort_values(by='diferenca', ascending=False).head(40)"
   ]
  },
  {
   "cell_type": "markdown",
   "metadata": {},
   "source": [
    "# Valuation fluxo de caixa descontado"
   ]
  },
  {
   "cell_type": "code",
   "execution_count": null,
   "metadata": {},
   "outputs": [],
   "source": [
    "import warnings\n",
    "warnings.filterwarnings('ignore')\n",
    "acoes = pd.read_csv(\"C:/Users/jefer/Downloads/setor.csv\")['tic'].to_list()\n",
    "for acao in acoes:\n",
    "    try:\n",
    "        wac = CalculoWACC(ticker=f'{acao}.SA')\n",
    "        print(f'Custo Capital Proprio da acao {acao}:',wac.wacc())\n",
    "    except KeyError:\n",
    "        print(f'Erro ao obter dados da acao {acao}')\n",
    "    except ValueError:\n",
    "        print(f'Erro ao obter dados da acao {acao}')"
   ]
  },
  {
   "cell_type": "code",
   "execution_count": null,
   "metadata": {},
   "outputs": [],
   "source": [
    "acoes = pd.read_csv(\"C:/Users/jefer/Downloads/setor.csv\")['tic'].to_list()\n",
    "for acao in acoes:\n",
    "    try:\n",
    "        vari = VariacaoReceita(ticker=f'{acao}.SA')\n",
    "        print(f'Custo Capital Proprio da acao {acao}:',vari.receita_crescimento_metricas())\n",
    "    except KeyError:\n",
    "        print(f'Erro ao obter dados da acao {acao}')\n",
    "    except ValueError:\n",
    "        print(f'Erro ao obter dados da acao {acao}')\n",
    "    except ConnectionError:\n",
    "        print(f'Erro ao obter dados da acao {acao}')"
   ]
  },
  {
   "cell_type": "code",
   "execution_count": 2,
   "metadata": {},
   "outputs": [
    {
     "name": "stderr",
     "output_type": "stream",
     "text": [
      "[*********************100%***********************]  1 of 1 completed\n"
     ]
    },
    {
     "data": {
      "text/plain": [
       "{'margemebit': -0.188,\n",
       " 'ultimareceita': 442596000.0,\n",
       " 'variacaoreceita': {'mean_deflacionada': 1.8544798993495084,\n",
       "  'median_deflacionada': 1.7348590789166258,\n",
       "  'mean_normal': 2.054389064389649,\n",
       "  'median_normal': 2.009985902255639},\n",
       " 'depreciacaocapex': 0.1,\n",
       " 'capexreceita': 0.1,\n",
       " 'wacc': 0.166,\n",
       " 'quantidadeacoes': 187167464.0,\n",
       " 'dividatotal': 39103000.0,\n",
       " 'caixa': 2090000.0,\n",
       " 'outrosativos': 360930000.0,\n",
       " 'passivosmenosdivida': 367763000.0,\n",
       " 'necessidadecapitalgiro': -104186000.0,\n",
       " 'percentualimposto': 0.5714}"
      ]
     },
     "execution_count": 2,
     "metadata": {},
     "output_type": "execute_result"
    }
   ],
   "source": [
    "ind = IndicadoresFinanceiros(ticker='AZEV3.SA')\n",
    "indicadores_petr = ind.todos_indicadores()\n",
    "indicadores_petr"
   ]
  },
  {
   "cell_type": "code",
   "execution_count": 2,
   "metadata": {},
   "outputs": [
    {
     "name": "stderr",
     "output_type": "stream",
     "text": [
      "[*********************100%***********************]  1 of 1 completed\n"
     ]
    },
    {
     "name": "stdout",
     "output_type": "stream",
     "text": [
      "{'margemebit': 0.3882, 'ultimareceita': 102409000000.0, 'variacaoreceita': {'mean_deflacionada': 0.20294717006024565, 'median_deflacionada': 0.40129820010037975, 'mean_normal': 0.28975841631631644, 'median_normal': 0.4824333658861921}, 'depreciacaocapex': 1.6143, 'capexreceita': 0.0932, 'wacc': 0.164, 'quantidadeacoes': 13044496930.0, 'dividatotal': 62600000000.0, 'caixa': 15546000000.0, 'outrosativos': 170536000000.0, 'passivosmenosdivida': 75492000000.0, 'necessidadecapitalgiro': -1415000000.0, 'percentualimposto': 0.2666}\n",
      "Valuation para 5 anos\n",
      "Anos 5.00\n",
      "Valor presente do fluxo de caixa: R$ 1080775988712.18\n",
      "Fluxo de caixa ajustado: R$ 1191365988712.18\n",
      "Valor por ação: R$ 91.33\n",
      "   data     receita_ano        ebit_ano    imposto_ano      capex_ano  \\\n",
      "0  2025 143505547374.08  55708853490.62 14851980340.60 13374717015.26   \n",
      "1  2026 201094065239.72  78064716126.06 20812053319.21 18741966880.34   \n",
      "2  2027 281792751671.29 109391946198.79 29163892856.60 26263084455.76   \n",
      "3  2028 394875675718.31 153290737313.85 40867310567.87 36802412976.95   \n",
      "4  2029 553338573647.49 214806034289.96 57267288741.70 51571155063.95   \n",
      "\n",
      "   depreciacao_ano   ebit_ajustado     fluxo_caixa  valor_presente_fluxo  \n",
      "0   21590805677.73  62447678827.75  49072961812.49        42158901900.76  \n",
      "1   30255157134.93  87507819941.78  68765853061.44        50753602535.87  \n",
      "2   42396497236.93 122624550579.12  96361466123.36        61100456943.40  \n",
      "3   59410135268.69 171833562014.67 135031149037.72        73556666958.86  \n",
      "4   83251315619.73 240790061167.99 189218906104.04        88552255167.39  \n"
     ]
    }
   ],
   "source": [
    "ind = IndicadoresFinanceiros(ticker='PETR4.SA')\n",
    "pd.options.display.float_format = '{:.2f}'.format\n",
    "indicadores_petr = ind.todos_indicadores()\n",
    "print(indicadores_petr)\n",
    "valuation = ValuationFluxoCaixaDescontado(\n",
    "            receita_ano=indicadores_petr['ultimareceita'],\n",
    "            porcenta_crescimento_receita=indicadores_petr['variacaoreceita']['median_deflacionada'] if 'median_deflacionada' in indicadores_petr['variacaoreceita'].keys() else indicadores_petr['variacaoreceita']['median_normal'],\n",
    "            margem_ebit=indicadores_petr['margemebit'],\n",
    "            imposto_porcentagem=indicadores_petr['percentualimposto'],\n",
    "            depreciacao_capex=indicadores_petr['depreciacaocapex'],\n",
    "            capex_da_receita=indicadores_petr['capexreceita'],\n",
    "            wacc=indicadores_petr['wacc'],\n",
    "            numero_de_acoes=indicadores_petr['quantidadeacoes'],\n",
    "            divida=indicadores_petr['dividatotal'],\n",
    "            disponivel=indicadores_petr['caixa'],\n",
    "            ativos_nao_operacionais=indicadores_petr['outrosativos'],\n",
    "            passivos_circulantes=indicadores_petr['passivosmenosdivida'],\n",
    "            necessidade_capital_de_giro=indicadores_petr['necessidadecapitalgiro'],\n",
    "            anos_projecao=5, \n",
    "            taxa_crecimento_perpetuidade=0.014,\n",
    "            calculo_necessidade_capital_de_giro=False)\n",
    "print(valuation.calcular_valuation())"
   ]
  },
  {
   "cell_type": "code",
   "execution_count": null,
   "metadata": {},
   "outputs": [],
   "source": [
    "pd.set_option('display.max_rows', None)\n",
    "pd.options.display.float_format = '{:.2f}'.format\n",
    "acao = pd.read_csv(\"C:/Users/jefer/Downloads/setor.csv\")['tic'].to_list()\n",
    "\n",
    "for acao in acao:\n",
    "    print(f'Valuation Fluxo de Caixa Descontado da acao {acao}')\n",
    "    try:\n",
    "        ind = IndicadoresFinanceiros(ticker=f'{acao}.SA')\n",
    "        indicadores_petr = ind.todos_indicadores()\n",
    "        print(indicadores_petr)\n",
    "        valuation = ValuationFluxoCaixaDescontado(\n",
    "            receita_ano=indicadores_petr['ultimareceita'],\n",
    "            porcenta_crescimento_receita=indicadores_petr['variacaoreceita']['median_deflacionada'] if 'median_deflacionada' in indicadores_petr['variacaoreceita'].keys() else indicadores_petr['variacaoreceita']['median_normal'],\n",
    "            margem_ebit=indicadores_petr['margemebit'],\n",
    "            imposto_porcentagem=indicadores_petr['percentualimposto'],\n",
    "            depreciacao_capex=indicadores_petr['depreciacaocapex'],\n",
    "            capex_da_receita=indicadores_petr['capexreceita'],\n",
    "            wacc=indicadores_petr['wacc'],\n",
    "            numero_de_acoes=indicadores_petr['quantidadeacoes'],\n",
    "            divida=indicadores_petr['dividatotal'],\n",
    "            disponivel=indicadores_petr['caixa'],\n",
    "            ativos_nao_operacionais=indicadores_petr['outrosativos'],\n",
    "            passivos_circulantes=indicadores_petr['passivosmenosdivida'],\n",
    "            necessidade_capital_de_giro=indicadores_petr['necessidadecapitalgiro'],\n",
    "            anos_projecao=5, \n",
    "            taxa_crecimento_perpetuidade=0.014,\n",
    "            calculo_necessidade_capital_de_giro=False)\n",
    "        print(valuation.calcular_valuation())\n",
    "    except:\n",
    "        print(f'Erro ao obter dados da acao {acao}')"
   ]
  },
  {
   "cell_type": "markdown",
   "metadata": {},
   "source": [
    "# Valuation completo"
   ]
  },
  {
   "cell_type": "code",
   "execution_count": 31,
   "metadata": {},
   "outputs": [],
   "source": [
    "acoes= pd.read_csv(\"C:/Users/jefer/Downloads/setor.csv\")['tic'].to_list()"
   ]
  },
  {
   "cell_type": "code",
   "execution_count": 32,
   "metadata": {},
   "outputs": [
    {
     "data": {
      "text/plain": [
       "['AALR3',\n",
       " 'ABEV3',\n",
       " 'AFLT3',\n",
       " 'AGRO3',\n",
       " 'AGXY3',\n",
       " 'AHEB3',\n",
       " 'ALPA3',\n",
       " 'ALPA4',\n",
       " 'ALPK3',\n",
       " 'ALLD3']"
      ]
     },
     "execution_count": 32,
     "metadata": {},
     "output_type": "execute_result"
    }
   ],
   "source": [
    "acoes[:10]"
   ]
  },
  {
   "cell_type": "code",
   "execution_count": 49,
   "metadata": {},
   "outputs": [
    {
     "data": {
      "text/plain": [
       "['AALR3',\n",
       " 'ABEV3',\n",
       " 'AFLT3',\n",
       " 'AGRO3',\n",
       " 'AGXY3',\n",
       " 'AHEB3',\n",
       " 'ALPA3',\n",
       " 'ALPA4',\n",
       " 'ALPK3',\n",
       " 'ALLD3',\n",
       " 'ALOS3',\n",
       " 'AMBP3',\n",
       " 'AMAR3',\n",
       " 'AMER3',\n",
       " 'ANIM3',\n",
       " 'ASAI3',\n",
       " 'AURE3',\n",
       " 'AVLL3',\n",
       " 'AZEV3',\n",
       " 'AZUL4',\n",
       " 'AZZA3',\n",
       " 'BALM4',\n",
       " 'BAUH4',\n",
       " 'BAZA3',\n",
       " 'BBAS3',\n",
       " 'BBSE3',\n",
       " 'BBDC3',\n",
       " 'BBDC4',\n",
       " 'BGIP3',\n",
       " 'BGIP4',\n",
       " 'BIOM3',\n",
       " 'BLAU3',\n",
       " 'BMEB3',\n",
       " 'BMEB4',\n",
       " 'BMKS3',\n",
       " 'BMIN3',\n",
       " 'BMIN4',\n",
       " 'BMOB3',\n",
       " 'BPAN4',\n",
       " 'BPAC11',\n",
       " 'BPAC3',\n",
       " 'BPAC5',\n",
       " 'BRAP3',\n",
       " 'BRAP4',\n",
       " 'BRAV3',\n",
       " 'BRBI11',\n",
       " 'BRFS3',\n",
       " 'BRKM3',\n",
       " 'BRKM5',\n",
       " 'BRST3',\n",
       " 'BRSR3',\n",
       " 'BRSR6',\n",
       " 'BSLI3',\n",
       " 'BSLI4',\n",
       " 'CAMB3',\n",
       " 'CAML3',\n",
       " 'CASH3',\n",
       " 'CCRO3',\n",
       " 'CEAB3',\n",
       " 'CEBR6',\n",
       " 'CEDO3',\n",
       " 'CEDO4',\n",
       " 'CGAS3',\n",
       " 'CGAS5',\n",
       " 'CLSA3',\n",
       " 'CMIG3',\n",
       " 'CMIG4',\n",
       " 'COGN3',\n",
       " 'CRFB3',\n",
       " 'CSAN3',\n",
       " 'CSMG3',\n",
       " 'CSNA3',\n",
       " 'CSUD3',\n",
       " 'CYRE3',\n",
       " 'DIRR3',\n",
       " 'DXCO3',\n",
       " 'EALT3',\n",
       " 'EALT4',\n",
       " 'ECOR3',\n",
       " 'EGIE3',\n",
       " 'ELET3',\n",
       " 'ELET6',\n",
       " 'EMBR3',\n",
       " 'ENEV3',\n",
       " 'ENGI11',\n",
       " 'ENGI3',\n",
       " 'ENGI4',\n",
       " 'EQTL3',\n",
       " 'ESPA3',\n",
       " 'EZTC3',\n",
       " 'FESA3',\n",
       " 'FESA4',\n",
       " 'FIQE3',\n",
       " 'FLRY3',\n",
       " 'FRAS3',\n",
       " 'GGBR3',\n",
       " 'GGBR4',\n",
       " 'GOAU3',\n",
       " 'GOAU4',\n",
       " 'GOLL4',\n",
       " 'HAPV3',\n",
       " 'HYPE3',\n",
       " 'IGTI3',\n",
       " 'IGTI11',\n",
       " 'INTB3',\n",
       " 'IRBR3',\n",
       " 'ITSA3',\n",
       " 'ITSA4',\n",
       " 'ITUB3',\n",
       " 'ITUB4',\n",
       " 'JBSS3',\n",
       " 'JHSF3',\n",
       " 'KLBN3',\n",
       " 'KLBN4',\n",
       " 'KLBN11',\n",
       " 'LIGT3',\n",
       " 'LOGG3',\n",
       " 'LREN3',\n",
       " 'LWSA3',\n",
       " 'MDIA3',\n",
       " 'MGLU3',\n",
       " 'MRFG3',\n",
       " 'MRVE3',\n",
       " 'MULT3',\n",
       " 'NEOE3',\n",
       " 'NTCO3',\n",
       " 'OIBR3',\n",
       " 'OIBR4',\n",
       " 'ONCO3',\n",
       " 'PCAR3',\n",
       " 'PETR3',\n",
       " 'PETR4',\n",
       " 'PETZ3',\n",
       " 'POSI3',\n",
       " 'PSSA3',\n",
       " 'PRIO3',\n",
       " 'QUAL3',\n",
       " 'RADL3',\n",
       " 'RAIL3',\n",
       " 'RAIZ4',\n",
       " 'RENT3',\n",
       " 'SBSP3',\n",
       " 'SLCE3',\n",
       " 'SMFT3',\n",
       " 'SMTO3',\n",
       " 'SUZB3',\n",
       " 'TAEE11',\n",
       " 'TAEE3',\n",
       " 'TAEE4',\n",
       " 'TIMS3',\n",
       " 'TOTS3',\n",
       " 'TRIS3',\n",
       " 'UGPA3',\n",
       " 'USIM3',\n",
       " 'USIM5',\n",
       " 'VALE3',\n",
       " 'VIVT3',\n",
       " 'WEGE3',\n",
       " 'YDUQ3']"
      ]
     },
     "execution_count": 49,
     "metadata": {},
     "output_type": "execute_result"
    }
   ],
   "source": [
    "pd.read_csv(\"dados/setor.csv\")['tic'].to_list()"
   ]
  },
  {
   "cell_type": "code",
   "execution_count": null,
   "metadata": {},
   "outputs": [],
   "source": [
    "acoes= pd.read_csv(\"dados/setor.csv\")['tic'].to_list()\n",
    "acoes = acoes[:5]\n",
    "data_valuation = {\n",
    "    'acao': [],\n",
    "    'valor_atual':[],\n",
    "    'preco_gordon': [],\n",
    "    'preco_fluxo': [],\n",
    "    'diferenca_gordon': [],\n",
    "    'diferenca_fluxo': []\n",
    "}\n",
    "for acao in acoes:\n",
    "    print('-'*10, acao, '-'*10)\n",
    "    try:\n",
    "        valu = ValuationModoloGordon(f'{acao}.SA')\n",
    "        preco_gordon = valu.preco_acao()\n",
    "\n",
    "        ind = IndicadoresFinanceiros(ticker=f'{acao}.SA')\n",
    "        indicadores = ind.todos_indicadores()\n",
    "\n",
    "        valuation_fluxo = ValuationFluxoCaixaDescontado(\n",
    "                    receita_ano=indicadores['ultimareceita'],\n",
    "                    porcenta_crescimento_receita=indicadores['variacaoreceita']['median_deflacionada'] if 'median_deflacionada' in indicadores['variacaoreceita'].keys() else indicadores['variacaoreceita']['median_normal'],\n",
    "                    margem_ebit=indicadores['margemebit'],\n",
    "                    imposto_porcentagem=indicadores['percentualimposto'],\n",
    "                    depreciacao_capex=indicadores['depreciacaocapex'],\n",
    "                    capex_da_receita=indicadores['capexreceita'],\n",
    "                    wacc=indicadores['wacc'],\n",
    "                    numero_de_acoes=indicadores['quantidadeacoes'],\n",
    "                    divida=indicadores['dividatotal'],\n",
    "                    disponivel=indicadores['caixa'],\n",
    "                    ativos_nao_operacionais=indicadores['outrosativos'],\n",
    "                    passivos_circulantes=indicadores['passivosmenosdivida'],\n",
    "                    necessidade_capital_de_giro=indicadores['necessidadecapitalgiro'],\n",
    "                    anos_projecao=5, \n",
    "                    taxa_crecimento_perpetuidade=0.014,\n",
    "                    calculo_necessidade_capital_de_giro=False)\n",
    "\n",
    "        _ , valor_fluxo = valuation_fluxo.calcular_valuation()\n",
    "\n",
    "        yaho = yf.Ticker(f'{acao}.SA')\n",
    "        valor_acao_atual = round(yaho.history(period=\"10Y\", interval=\"1d\")['Close'][-1],2)\n",
    "        \n",
    "        data_valuation['acao'].append(acao)\n",
    "        data_valuation['valor_atual'].append(valor_acao_atual)\n",
    "        data_valuation['preco_gordon'].append(preco_gordon['valuation_acao'])\n",
    "        data_valuation['preco_fluxo'].append(valor_fluxo['valor_por_acao'])\n",
    "        data_valuation['diferenca_gordon'].append(round((preco_gordon['valuation_acao'] - valor_acao_atual)/valor_acao_atual,2))\n",
    "        data_valuation['diferenca_fluxo'].append(round((valor_fluxo['valor_por_acao'] - valor_acao_atual)/valor_acao_atual,2))\n",
    "    except:\n",
    "        print(f'Erro ao obter dados da acao {acao}')\n",
    "data_valores = pd.DataFrame(data_valuation)"
   ]
  },
  {
   "cell_type": "code",
   "execution_count": 51,
   "metadata": {},
   "outputs": [],
   "source": [
    "data_valores.sort_values(by=['diferenca_fluxo', 'diferenca_gordon'], ascending=False).to_csv('dados/valores_valuations_acoes.csv', index=False)\n",
    "\n",
    "\n"
   ]
  },
  {
   "cell_type": "code",
   "execution_count": null,
   "metadata": {},
   "outputs": [],
   "source": [
    "data_valuation['acao'].append(acao)\n",
    "data_valuation['valor_atual'].append(valor_acao_atual)\n",
    "data_valuation['preco_gordon'].append(preco_gordon['valuation_acao'])\n",
    "data_valuation['preco_fluxo'].append(valor_fluxo['valor_por_acao'])\n"
   ]
  },
  {
   "cell_type": "code",
   "execution_count": null,
   "metadata": {},
   "outputs": [],
   "source": []
  }
 ],
 "metadata": {
  "kernelspec": {
   "display_name": ".venv",
   "language": "python",
   "name": "python3"
  },
  "language_info": {
   "codemirror_mode": {
    "name": "ipython",
    "version": 3
   },
   "file_extension": ".py",
   "mimetype": "text/x-python",
   "name": "python",
   "nbconvert_exporter": "python",
   "pygments_lexer": "ipython3",
   "version": "3.12.0"
  }
 },
 "nbformat": 4,
 "nbformat_minor": 2
}
